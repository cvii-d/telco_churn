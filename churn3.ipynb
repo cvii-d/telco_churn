{
 "cells": [
  {
   "cell_type": "code",
   "execution_count": 2,
   "metadata": {},
   "outputs": [
    {
     "name": "stdout",
     "output_type": "stream",
     "text": [
      "      customerID  gender  SeniorCitizen Partner Dependents  tenure  \\\n",
      "0     7590-VHVEG  Female              0     Yes         No       1   \n",
      "1     5575-GNVDE    Male              0      No         No      34   \n",
      "2     3668-QPYBK    Male              0      No         No       2   \n",
      "3     7795-CFOCW    Male              0      No         No      45   \n",
      "4     9237-HQITU  Female              0      No         No       2   \n",
      "...          ...     ...            ...     ...        ...     ...   \n",
      "7038  6840-RESVB    Male              0     Yes        Yes      24   \n",
      "7039  2234-XADUH  Female              0     Yes        Yes      72   \n",
      "7040  4801-JZAZL  Female              0     Yes        Yes      11   \n",
      "7041  8361-LTMKD    Male              1     Yes         No       4   \n",
      "7042  3186-AJIEK    Male              0      No         No      66   \n",
      "\n",
      "     PhoneService     MultipleLines InternetService OnlineSecurity  ...  \\\n",
      "0              No  No phone service             DSL             No  ...   \n",
      "1             Yes                No             DSL            Yes  ...   \n",
      "2             Yes                No             DSL            Yes  ...   \n",
      "3              No  No phone service             DSL            Yes  ...   \n",
      "4             Yes                No     Fiber optic             No  ...   \n",
      "...           ...               ...             ...            ...  ...   \n",
      "7038          Yes               Yes             DSL            Yes  ...   \n",
      "7039          Yes               Yes     Fiber optic             No  ...   \n",
      "7040           No  No phone service             DSL            Yes  ...   \n",
      "7041          Yes               Yes     Fiber optic             No  ...   \n",
      "7042          Yes                No     Fiber optic            Yes  ...   \n",
      "\n",
      "     TechSupport StreamingTV StreamingMovies        Contract PaperlessBilling  \\\n",
      "0             No          No              No  Month-to-month              Yes   \n",
      "1             No          No              No        One year               No   \n",
      "2             No          No              No  Month-to-month              Yes   \n",
      "3            Yes          No              No        One year               No   \n",
      "4             No          No              No  Month-to-month              Yes   \n",
      "...          ...         ...             ...             ...              ...   \n",
      "7038         Yes         Yes             Yes        One year              Yes   \n",
      "7039          No         Yes             Yes        One year              Yes   \n",
      "7040          No          No              No  Month-to-month              Yes   \n",
      "7041          No          No              No  Month-to-month              Yes   \n",
      "7042         Yes         Yes             Yes        Two year              Yes   \n",
      "\n",
      "                  PaymentMethod MonthlyCharges TotalCharges  Churn  \\\n",
      "0              Electronic check          29.85        29.85     No   \n",
      "1                  Mailed check          56.95       1889.5     No   \n",
      "2                  Mailed check          53.85       108.15    Yes   \n",
      "3     Bank transfer (automatic)          42.30      1840.75     No   \n",
      "4              Electronic check          70.70       151.65    Yes   \n",
      "...                         ...            ...          ...    ...   \n",
      "7038               Mailed check          84.80       1990.5     No   \n",
      "7039    Credit card (automatic)         103.20       7362.9     No   \n",
      "7040           Electronic check          29.60       346.45     No   \n",
      "7041               Mailed check          74.40        306.6    Yes   \n",
      "7042  Bank transfer (automatic)         105.65       6844.5     No   \n",
      "\n",
      "     cancelation_date  \n",
      "0                None  \n",
      "1                None  \n",
      "2          2025-01-12  \n",
      "3                None  \n",
      "4          2025-01-12  \n",
      "...               ...  \n",
      "7038             None  \n",
      "7039             None  \n",
      "7040             None  \n",
      "7041       2024-11-13  \n",
      "7042             None  \n",
      "\n",
      "[7043 rows x 22 columns]\n"
     ]
    }
   ],
   "source": [
    "import pandas as pd\n",
    "import numpy as np\n",
    "from datetime import datetime, timedelta\n",
    "import random\n",
    "\n",
    "# Sample dataset (replace with your actual dataset)\n",
    "df = pd.read_csv('Telco-Customer-Churn.csv')\n",
    "\n",
    "\n",
    "# Current date\n",
    "current_date = datetime(2025, 3, 13)\n",
    "\n",
    "# Function to calculate cancelation date based on tenure\n",
    "def calculate_cancelation_date(row):\n",
    "    if row['Churn'] == 'Yes':\n",
    "        # Calculate the cancelation date based on tenure\n",
    "        cancelation_date = current_date - timedelta(days=row['tenure'] * 30)  # Approximation for months\n",
    "        return cancelation_date.strftime('%Y-%m-%d')\n",
    "    else:\n",
    "        return None\n",
    "\n",
    "# Apply the function to calculate cancelation_date\n",
    "df['cancelation_date'] = df.apply(calculate_cancelation_date, axis=1)\n",
    "\n",
    "# Display the updated dataset\n",
    "print(df)\n"
   ]
  },
  {
   "cell_type": "code",
   "execution_count": 4,
   "metadata": {},
   "outputs": [
    {
     "name": "stdout",
     "output_type": "stream",
     "text": [
      "Data exported to: customer_cancelation_data.csv\n"
     ]
    }
   ],
   "source": [
    "\n",
    "df_selected = df[['customerID', 'cancelation_date']]\n",
    "\n",
    "output_file = 'customer_cancelation_data.csv'\n",
    "df_selected.to_csv(output_file, index=False)\n",
    "print(f\"Data exported to: {output_file}\")"
   ]
  }
 ],
 "metadata": {
  "kernelspec": {
   "display_name": "Python 3",
   "language": "python",
   "name": "python3"
  },
  "language_info": {
   "codemirror_mode": {
    "name": "ipython",
    "version": 3
   },
   "file_extension": ".py",
   "mimetype": "text/x-python",
   "name": "python",
   "nbconvert_exporter": "python",
   "pygments_lexer": "ipython3",
   "version": "3.11.1"
  }
 },
 "nbformat": 4,
 "nbformat_minor": 2
}
